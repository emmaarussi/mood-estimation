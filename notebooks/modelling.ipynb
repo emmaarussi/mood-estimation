{
 "cells": [
  {
   "cell_type": "code",
   "execution_count": 35,
   "id": "197973ee",
   "metadata": {},
   "outputs": [],
   "source": [
    "import pandas as pd\n",
    "import numpy as np\n",
    "import xgboost as xgb\n",
    "from sklearn.metrics import r2_score, mean_squared_error\n",
    "import matplotlib.pyplot as plt\n",
    "import seaborn as sns\n",
    "from datetime import datetime, timedelta\n",
    "import sys\n",
    "\n",
    "sys.path.append('..')\n",
    "from modeling.xgboost_simple_features import prepare_rolling_window_data"
   ]
  },
  {
   "cell_type": "code",
   "execution_count": 61,
   "id": "a6e2bbc7",
   "metadata": {},
   "outputs": [],
   "source": [
    "features = pd.read_csv('../data/mood_prediction_simple_features.csv')\n",
    "features['time'] = pd.to_datetime(features['time'])\n",
    "#features['date'] = features['time'].dt.date\n",
    "\n",
    "features.to_csv('features.csv', index=False)"
   ]
  },
  {
   "cell_type": "code",
   "execution_count": null,
   "id": "e4a72f0d",
   "metadata": {},
   "outputs": [],
   "source": [
    "features"
   ]
  },
  {
   "cell_type": "code",
   "execution_count": 28,
   "id": "f0e66a63",
   "metadata": {},
   "outputs": [
    {
     "data": {
      "application/vnd.microsoft.datawrangler.viewer.v0+json": {
       "columns": [
        {
         "name": "index",
         "rawType": "int64",
         "type": "integer"
        },
        {
         "name": "id",
         "rawType": "object",
         "type": "string"
        },
        {
         "name": "date",
         "rawType": "object",
         "type": "unknown"
        },
        {
         "name": "mood",
         "rawType": "int64",
         "type": "integer"
        }
       ],
       "conversionMethod": "pd.DataFrame",
       "ref": "a486c616-c14b-4f52-bb1a-e1e0ecc6a2cf",
       "rows": [
        [
         "0",
         "AS14.01",
         "2014-02-17",
         "0"
        ],
        [
         "1",
         "AS14.01",
         "2014-02-18",
         "0"
        ],
        [
         "2",
         "AS14.01",
         "2014-02-19",
         "0"
        ],
        [
         "3",
         "AS14.01",
         "2014-02-20",
         "0"
        ],
        [
         "4",
         "AS14.01",
         "2014-02-21",
         "0"
        ],
        [
         "5",
         "AS14.01",
         "2014-02-22",
         "0"
        ],
        [
         "6",
         "AS14.01",
         "2014-02-25",
         "0"
        ],
        [
         "7",
         "AS14.01",
         "2014-02-26",
         "4"
        ],
        [
         "8",
         "AS14.01",
         "2014-02-27",
         "3"
        ],
        [
         "9",
         "AS14.01",
         "2014-02-28",
         "0"
        ],
        [
         "10",
         "AS14.01",
         "2014-03-01",
         "0"
        ],
        [
         "11",
         "AS14.01",
         "2014-03-03",
         "0"
        ],
        [
         "12",
         "AS14.01",
         "2014-03-05",
         "0"
        ],
        [
         "13",
         "AS14.01",
         "2014-03-06",
         "0"
        ],
        [
         "14",
         "AS14.01",
         "2014-03-07",
         "0"
        ],
        [
         "15",
         "AS14.01",
         "2014-03-10",
         "0"
        ],
        [
         "16",
         "AS14.01",
         "2014-03-11",
         "0"
        ],
        [
         "17",
         "AS14.01",
         "2014-03-12",
         "0"
        ],
        [
         "18",
         "AS14.01",
         "2014-03-13",
         "0"
        ],
        [
         "19",
         "AS14.01",
         "2014-03-14",
         "0"
        ],
        [
         "20",
         "AS14.01",
         "2014-03-15",
         "0"
        ],
        [
         "21",
         "AS14.01",
         "2014-03-16",
         "0"
        ],
        [
         "22",
         "AS14.01",
         "2014-03-17",
         "0"
        ],
        [
         "23",
         "AS14.01",
         "2014-03-18",
         "0"
        ],
        [
         "24",
         "AS14.01",
         "2014-03-19",
         "0"
        ],
        [
         "25",
         "AS14.01",
         "2014-03-20",
         "0"
        ],
        [
         "26",
         "AS14.01",
         "2014-03-21",
         "5"
        ],
        [
         "27",
         "AS14.01",
         "2014-03-22",
         "5"
        ],
        [
         "28",
         "AS14.01",
         "2014-03-23",
         "5"
        ],
        [
         "29",
         "AS14.01",
         "2014-03-24",
         "5"
        ],
        [
         "30",
         "AS14.01",
         "2014-03-25",
         "4"
        ],
        [
         "31",
         "AS14.01",
         "2014-03-26",
         "5"
        ],
        [
         "32",
         "AS14.01",
         "2014-03-27",
         "5"
        ],
        [
         "33",
         "AS14.01",
         "2014-03-28",
         "5"
        ],
        [
         "34",
         "AS14.01",
         "2014-03-29",
         "5"
        ],
        [
         "35",
         "AS14.01",
         "2014-03-30",
         "4"
        ],
        [
         "36",
         "AS14.01",
         "2014-03-31",
         "5"
        ],
        [
         "37",
         "AS14.01",
         "2014-04-01",
         "5"
        ],
        [
         "38",
         "AS14.01",
         "2014-04-02",
         "4"
        ],
        [
         "39",
         "AS14.01",
         "2014-04-03",
         "5"
        ],
        [
         "40",
         "AS14.01",
         "2014-04-04",
         "5"
        ],
        [
         "41",
         "AS14.01",
         "2014-04-05",
         "5"
        ],
        [
         "42",
         "AS14.01",
         "2014-04-06",
         "4"
        ],
        [
         "43",
         "AS14.01",
         "2014-04-07",
         "4"
        ],
        [
         "44",
         "AS14.01",
         "2014-04-08",
         "5"
        ],
        [
         "45",
         "AS14.01",
         "2014-04-09",
         "5"
        ],
        [
         "46",
         "AS14.01",
         "2014-04-10",
         "5"
        ],
        [
         "47",
         "AS14.01",
         "2014-04-11",
         "5"
        ],
        [
         "48",
         "AS14.01",
         "2014-04-12",
         "4"
        ],
        [
         "49",
         "AS14.01",
         "2014-04-13",
         "4"
        ]
       ],
       "shape": {
        "columns": 3,
        "rows": 1973
       }
      },
      "text/html": [
       "<div>\n",
       "<style scoped>\n",
       "    .dataframe tbody tr th:only-of-type {\n",
       "        vertical-align: middle;\n",
       "    }\n",
       "\n",
       "    .dataframe tbody tr th {\n",
       "        vertical-align: top;\n",
       "    }\n",
       "\n",
       "    .dataframe thead th {\n",
       "        text-align: right;\n",
       "    }\n",
       "</style>\n",
       "<table border=\"1\" class=\"dataframe\">\n",
       "  <thead>\n",
       "    <tr style=\"text-align: right;\">\n",
       "      <th></th>\n",
       "      <th>id</th>\n",
       "      <th>date</th>\n",
       "      <th>mood</th>\n",
       "    </tr>\n",
       "  </thead>\n",
       "  <tbody>\n",
       "    <tr>\n",
       "      <th>0</th>\n",
       "      <td>AS14.01</td>\n",
       "      <td>2014-02-17</td>\n",
       "      <td>0</td>\n",
       "    </tr>\n",
       "    <tr>\n",
       "      <th>1</th>\n",
       "      <td>AS14.01</td>\n",
       "      <td>2014-02-18</td>\n",
       "      <td>0</td>\n",
       "    </tr>\n",
       "    <tr>\n",
       "      <th>2</th>\n",
       "      <td>AS14.01</td>\n",
       "      <td>2014-02-19</td>\n",
       "      <td>0</td>\n",
       "    </tr>\n",
       "    <tr>\n",
       "      <th>3</th>\n",
       "      <td>AS14.01</td>\n",
       "      <td>2014-02-20</td>\n",
       "      <td>0</td>\n",
       "    </tr>\n",
       "    <tr>\n",
       "      <th>4</th>\n",
       "      <td>AS14.01</td>\n",
       "      <td>2014-02-21</td>\n",
       "      <td>0</td>\n",
       "    </tr>\n",
       "    <tr>\n",
       "      <th>...</th>\n",
       "      <td>...</td>\n",
       "      <td>...</td>\n",
       "      <td>...</td>\n",
       "    </tr>\n",
       "    <tr>\n",
       "      <th>1968</th>\n",
       "      <td>AS14.33</td>\n",
       "      <td>2014-05-27</td>\n",
       "      <td>5</td>\n",
       "    </tr>\n",
       "    <tr>\n",
       "      <th>1969</th>\n",
       "      <td>AS14.33</td>\n",
       "      <td>2014-05-28</td>\n",
       "      <td>5</td>\n",
       "    </tr>\n",
       "    <tr>\n",
       "      <th>1970</th>\n",
       "      <td>AS14.33</td>\n",
       "      <td>2014-05-29</td>\n",
       "      <td>3</td>\n",
       "    </tr>\n",
       "    <tr>\n",
       "      <th>1971</th>\n",
       "      <td>AS14.33</td>\n",
       "      <td>2014-05-30</td>\n",
       "      <td>5</td>\n",
       "    </tr>\n",
       "    <tr>\n",
       "      <th>1972</th>\n",
       "      <td>AS14.33</td>\n",
       "      <td>2014-05-31</td>\n",
       "      <td>1</td>\n",
       "    </tr>\n",
       "  </tbody>\n",
       "</table>\n",
       "<p>1973 rows × 3 columns</p>\n",
       "</div>"
      ],
      "text/plain": [
       "           id        date  mood\n",
       "0     AS14.01  2014-02-17     0\n",
       "1     AS14.01  2014-02-18     0\n",
       "2     AS14.01  2014-02-19     0\n",
       "3     AS14.01  2014-02-20     0\n",
       "4     AS14.01  2014-02-21     0\n",
       "...       ...         ...   ...\n",
       "1968  AS14.33  2014-05-27     5\n",
       "1969  AS14.33  2014-05-28     5\n",
       "1970  AS14.33  2014-05-29     3\n",
       "1971  AS14.33  2014-05-30     5\n",
       "1972  AS14.33  2014-05-31     1\n",
       "\n",
       "[1973 rows x 3 columns]"
      ]
     },
     "execution_count": 28,
     "metadata": {},
     "output_type": "execute_result"
    }
   ],
   "source": [
    "features[['mood','date','id']].groupby(['id','date']).agg('count').reset_index()"
   ]
  },
  {
   "cell_type": "code",
   "execution_count": 31,
   "id": "b8fcd4e8",
   "metadata": {},
   "outputs": [],
   "source": [
    "# For each user, split by time:\n",
    "grouped = features.groupby('id')\n",
    "\n",
    "train_dfs = []\n",
    "test_dfs = []\n",
    "\n",
    "for user_id, group in grouped:\n",
    "    group_sorted = group.sort_values('date')  # chronological order\n",
    "    split_idx = int(len(group_sorted) * 0.8)\n",
    "    train_dfs.append(group_sorted.iloc[:split_idx])\n",
    "    test_dfs.append(group_sorted.iloc[split_idx:])\n",
    "\n",
    "train_data = pd.concat(train_dfs)\n",
    "test_data = pd.concat(test_dfs)"
   ]
  },
  {
   "cell_type": "code",
   "execution_count": 62,
   "id": "67df7133",
   "metadata": {},
   "outputs": [
    {
     "data": {
      "text/plain": [
       "(1777, 14)"
      ]
     },
     "execution_count": 62,
     "metadata": {},
     "output_type": "execute_result"
    }
   ],
   "source": [
    "X, y, dates, user_id = prepare_rolling_window_data(features, window_size=3)\n",
    "\n",
    "y\n",
    "\n",
    "X.shape"
   ]
  },
  {
   "cell_type": "code",
   "execution_count": 63,
   "id": "50f9d386",
   "metadata": {},
   "outputs": [
    {
     "data": {
      "application/vnd.microsoft.datawrangler.viewer.v0+json": {
       "columns": [
        {
         "name": "index",
         "rawType": "int64",
         "type": "integer"
        },
        {
         "name": "target_mood",
         "rawType": "float64",
         "type": "float"
        },
        {
         "name": "mood_trend",
         "rawType": "float64",
         "type": "float"
        }
       ],
       "conversionMethod": "pd.DataFrame",
       "ref": "563aee07-5e2a-405a-84b4-2403657e0d7a",
       "rows": [
        [
         "0",
         null,
         null
        ],
        [
         "1",
         null,
         null
        ],
        [
         "2",
         null,
         null
        ],
        [
         "3",
         "6.25",
         null
        ],
        [
         "4",
         "6.333333333333333",
         null
        ],
        [
         "5",
         null,
         null
        ],
        [
         "6",
         null,
         null
        ],
        [
         "7",
         null,
         null
        ],
        [
         "8",
         null,
         null
        ],
        [
         "9",
         null,
         null
        ],
        [
         "10",
         null,
         null
        ],
        [
         "11",
         null,
         null
        ],
        [
         "12",
         null,
         null
        ],
        [
         "13",
         null,
         null
        ],
        [
         "14",
         null,
         null
        ],
        [
         "15",
         null,
         null
        ],
        [
         "16",
         null,
         null
        ],
        [
         "17",
         null,
         null
        ],
        [
         "18",
         null,
         null
        ],
        [
         "19",
         "6.2",
         null
        ],
        [
         "20",
         "6.4",
         null
        ],
        [
         "21",
         "6.8",
         null
        ],
        [
         "22",
         "6.0",
         "0.5999999999999996"
        ],
        [
         "23",
         "6.75",
         "-0.40000000000000036"
        ],
        [
         "24",
         "6.6",
         "-0.04999999999999982"
        ],
        [
         "25",
         "7.0",
         "0.5999999999999996"
        ],
        [
         "26",
         "6.4",
         "0.25"
        ],
        [
         "27",
         "8.0",
         "-0.1999999999999993"
        ],
        [
         "28",
         "7.5",
         "1.0"
        ],
        [
         "29",
         "7.4",
         "1.0999999999999996"
        ],
        [
         "30",
         "6.0",
         "-0.5999999999999996"
        ],
        [
         "31",
         "6.5",
         "-1.5"
        ],
        [
         "32",
         "6.4",
         "-0.9000000000000004"
        ],
        [
         "33",
         "6.2",
         "0.40000000000000036"
        ],
        [
         "34",
         "6.8",
         "-0.2999999999999998"
        ],
        [
         "35",
         "6.5",
         "0.39999999999999947"
        ],
        [
         "36",
         "6.5",
         "0.2999999999999998"
        ],
        [
         "37",
         "6.6",
         "-0.2999999999999998"
        ],
        [
         "38",
         "7.4",
         "0.09999999999999964"
        ],
        [
         "39",
         "7.4",
         "0.9000000000000004"
        ],
        [
         "40",
         "7.0",
         "0.8000000000000007"
        ],
        [
         "41",
         "7.25",
         "-0.40000000000000036"
        ],
        [
         "42",
         "8.0",
         "-0.15000000000000036"
        ],
        [
         "43",
         "7.2",
         "1.0"
        ],
        [
         "44",
         "6.4",
         "-0.04999999999999982"
        ],
        [
         "45",
         "7.2",
         "-1.5999999999999996"
        ],
        [
         "46",
         "6.625",
         "0.0"
        ],
        [
         "47",
         "6.8",
         "0.22499999999999964"
        ],
        [
         "48",
         "7.8",
         "-0.40000000000000036"
        ],
        [
         "49",
         "7.25",
         "1.1749999999999998"
        ]
       ],
       "shape": {
        "columns": 2,
        "rows": 1777
       }
      },
      "text/html": [
       "<div>\n",
       "<style scoped>\n",
       "    .dataframe tbody tr th:only-of-type {\n",
       "        vertical-align: middle;\n",
       "    }\n",
       "\n",
       "    .dataframe tbody tr th {\n",
       "        vertical-align: top;\n",
       "    }\n",
       "\n",
       "    .dataframe thead th {\n",
       "        text-align: right;\n",
       "    }\n",
       "</style>\n",
       "<table border=\"1\" class=\"dataframe\">\n",
       "  <thead>\n",
       "    <tr style=\"text-align: right;\">\n",
       "      <th></th>\n",
       "      <th>target_mood</th>\n",
       "      <th>mood_trend</th>\n",
       "    </tr>\n",
       "  </thead>\n",
       "  <tbody>\n",
       "    <tr>\n",
       "      <th>0</th>\n",
       "      <td>NaN</td>\n",
       "      <td>NaN</td>\n",
       "    </tr>\n",
       "    <tr>\n",
       "      <th>1</th>\n",
       "      <td>NaN</td>\n",
       "      <td>NaN</td>\n",
       "    </tr>\n",
       "    <tr>\n",
       "      <th>2</th>\n",
       "      <td>NaN</td>\n",
       "      <td>NaN</td>\n",
       "    </tr>\n",
       "    <tr>\n",
       "      <th>3</th>\n",
       "      <td>6.250000</td>\n",
       "      <td>NaN</td>\n",
       "    </tr>\n",
       "    <tr>\n",
       "      <th>4</th>\n",
       "      <td>6.333333</td>\n",
       "      <td>NaN</td>\n",
       "    </tr>\n",
       "    <tr>\n",
       "      <th>...</th>\n",
       "      <td>...</td>\n",
       "      <td>...</td>\n",
       "    </tr>\n",
       "    <tr>\n",
       "      <th>1772</th>\n",
       "      <td>6.200000</td>\n",
       "      <td>-0.40</td>\n",
       "    </tr>\n",
       "    <tr>\n",
       "      <th>1773</th>\n",
       "      <td>8.200000</td>\n",
       "      <td>-0.05</td>\n",
       "    </tr>\n",
       "    <tr>\n",
       "      <th>1774</th>\n",
       "      <td>7.000000</td>\n",
       "      <td>2.20</td>\n",
       "    </tr>\n",
       "    <tr>\n",
       "      <th>1775</th>\n",
       "      <td>6.800000</td>\n",
       "      <td>0.80</td>\n",
       "    </tr>\n",
       "    <tr>\n",
       "      <th>1776</th>\n",
       "      <td>7.000000</td>\n",
       "      <td>-1.40</td>\n",
       "    </tr>\n",
       "  </tbody>\n",
       "</table>\n",
       "<p>1777 rows × 2 columns</p>\n",
       "</div>"
      ],
      "text/plain": [
       "      target_mood  mood_trend\n",
       "0             NaN         NaN\n",
       "1             NaN         NaN\n",
       "2             NaN         NaN\n",
       "3        6.250000         NaN\n",
       "4        6.333333         NaN\n",
       "...           ...         ...\n",
       "1772     6.200000       -0.40\n",
       "1773     8.200000       -0.05\n",
       "1774     7.000000        2.20\n",
       "1775     6.800000        0.80\n",
       "1776     7.000000       -1.40\n",
       "\n",
       "[1777 rows x 2 columns]"
      ]
     },
     "execution_count": 63,
     "metadata": {},
     "output_type": "execute_result"
    }
   ],
   "source": [
    "full_df = pd.concat([X,pd.Series(y,name='target_mood')], axis=1)\n",
    "full_df\n",
    "\n",
    "\n",
    "full_df[['target_mood','mood_trend']]"
   ]
  }
 ],
 "metadata": {
  "kernelspec": {
   "display_name": "base",
   "language": "python",
   "name": "python3"
  },
  "language_info": {
   "codemirror_mode": {
    "name": "ipython",
    "version": 3
   },
   "file_extension": ".py",
   "mimetype": "text/x-python",
   "name": "python",
   "nbconvert_exporter": "python",
   "pygments_lexer": "ipython3",
   "version": "3.12.7"
  }
 },
 "nbformat": 4,
 "nbformat_minor": 5
}
