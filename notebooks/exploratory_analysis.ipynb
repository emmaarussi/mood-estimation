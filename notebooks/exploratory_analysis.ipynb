{
 "cells": [
  {
   "cell_type": "markdown",
   "id": "a6579ee4",
   "metadata": {},
   "source": [
    "## Exploratory Analysis of the data"
   ]
  },
  {
   "cell_type": "code",
   "execution_count": 2,
   "id": "1e92db7d",
   "metadata": {},
   "outputs": [],
   "source": [
    "# Import Cleaned data\n",
    "import pandas as pd\n",
    "from pathlib import Path\n",
    "import numpy as np\n",
    "import matplotlib.pyplot as plt\n",
    "from statsmodels.tsa.stattools import acf, pacf, ccf\n",
    "from statsmodels.graphics.tsaplots import plot_acf, plot_pacf\n",
    "import matplotlib.dates\n",
    "\n",
    "\n",
    "CLEANED_DATA_PATH = Path.cwd().parent / 'data' / 'dataset_mood_smartphone_cleaned.csv'\n",
    "\n"
   ]
  },
  {
   "cell_type": "code",
   "execution_count": 3,
   "id": "f8a76b77",
   "metadata": {},
   "outputs": [
    {
     "data": {
      "application/vnd.microsoft.datawrangler.viewer.v0+json": {
       "columns": [
        {
         "name": "index",
         "rawType": "int64",
         "type": "integer"
        },
        {
         "name": "Unnamed: 0",
         "rawType": "int64",
         "type": "integer"
        },
        {
         "name": "id",
         "rawType": "object",
         "type": "string"
        },
        {
         "name": "time",
         "rawType": "datetime64[ns]",
         "type": "datetime"
        },
        {
         "name": "variable",
         "rawType": "object",
         "type": "string"
        },
        {
         "name": "value",
         "rawType": "float64",
         "type": "float"
        },
        {
         "name": "time_since_last",
         "rawType": "object",
         "type": "unknown"
        },
        {
         "name": "hours_since_last",
         "rawType": "float64",
         "type": "float"
        },
        {
         "name": "gap_category",
         "rawType": "object",
         "type": "unknown"
        },
        {
         "name": "avg_gap_hours",
         "rawType": "float64",
         "type": "float"
        },
        {
         "name": "gap_std_hours",
         "rawType": "float64",
         "type": "float"
        },
        {
         "name": "max_gap_hours",
         "rawType": "float64",
         "type": "float"
        },
        {
         "name": "date",
         "rawType": "object",
         "type": "unknown"
        }
       ],
       "conversionMethod": "pd.DataFrame",
       "ref": "3ec940d5-fee7-4327-a20b-6f7c227ca2c3",
       "rows": [
        [
         "0",
         "136471",
         "AS14.01",
         "2014-02-17 12:04:42.394000",
         "call",
         "1.0",
         null,
         null,
         null,
         "7.312217194570136",
         "35.008015771299014",
         "522.0",
         "2014-02-17"
        ],
        [
         "1",
         "136472",
         "AS14.01",
         "2014-02-17 18:28:25.520000",
         "call",
         "1.0",
         "0 days 06:23:43.126000",
         "6.395312777777778",
         "normal",
         "7.312217194570136",
         "35.008015771299014",
         "522.0",
         "2014-02-17"
        ],
        [
         "2",
         "136473",
         "AS14.01",
         "2014-02-18 09:29:51.257000",
         "call",
         "1.0",
         "0 days 15:01:25.737000",
         "15.023815833333334",
         "12-24h",
         "7.312217194570136",
         "35.008015771299014",
         "522.0",
         "2014-02-18"
        ],
        [
         "3",
         "136474",
         "AS14.01",
         "2014-02-19 14:43:30.575000",
         "call",
         "1.0",
         "1 days 05:13:39.318000",
         "29.227588333333333",
         "24-48h",
         "7.312217194570136",
         "35.008015771299014",
         "522.0",
         "2014-02-19"
        ],
        [
         "4",
         "136475",
         "AS14.01",
         "2014-02-19 17:29:10.378000",
         "call",
         "1.0",
         "0 days 02:45:39.803000",
         "2.761056388888889",
         "normal",
         "7.312217194570136",
         "35.008015771299014",
         "522.0",
         "2014-02-19"
        ],
        [
         "5",
         "136476",
         "AS14.01",
         "2014-02-19 17:42:16.499000",
         "call",
         "1.0",
         "0 days 00:13:06.121000",
         "0.2183669444444444",
         "normal",
         "7.312217194570136",
         "35.008015771299014",
         "522.0",
         "2014-02-19"
        ],
        [
         "6",
         "141710",
         "AS14.01",
         "2014-02-19 17:42:34.292000",
         "sms",
         "1.0",
         null,
         null,
         null,
         "7.312217194570136",
         "35.008015771299014",
         "522.0",
         "2014-02-19"
        ],
        [
         "7",
         "136477",
         "AS14.01",
         "2014-02-19 17:43:18.061000",
         "call",
         "1.0",
         "0 days 00:01:01.562000",
         "0.0171005555555555",
         "normal",
         "7.312217194570136",
         "35.008015771299014",
         "522.0",
         "2014-02-19"
        ],
        [
         "8",
         "136478",
         "AS14.01",
         "2014-02-19 17:44:01.594000",
         "call",
         "1.0",
         "0 days 00:00:43.533000",
         "0.0120925",
         "normal",
         "7.312217194570136",
         "35.008015771299014",
         "522.0",
         "2014-02-19"
        ],
        [
         "9",
         "136479",
         "AS14.01",
         "2014-02-19 18:07:50.055000",
         "call",
         "1.0",
         "0 days 00:23:48.461000",
         "0.3967947222222222",
         "normal",
         "7.312217194570136",
         "35.008015771299014",
         "522.0",
         "2014-02-19"
        ],
        [
         "10",
         "136480",
         "AS14.01",
         "2014-02-19 18:10:06.385000",
         "call",
         "1.0",
         "0 days 00:02:16.330000",
         "0.0378694444444444",
         "normal",
         "7.312217194570136",
         "35.008015771299014",
         "522.0",
         "2014-02-19"
        ],
        [
         "11",
         "141711",
         "AS14.01",
         "2014-02-19 21:25:04.397000",
         "sms",
         "1.0",
         "0 days 03:42:30.105000",
         "3.7083625",
         "normal",
         "7.312217194570136",
         "35.008015771299014",
         "522.0",
         "2014-02-19"
        ],
        [
         "12",
         "141712",
         "AS14.01",
         "2014-02-20 10:58:33.924000",
         "sms",
         "1.0",
         "0 days 13:33:29.527000",
         "13.558201944444445",
         "12-24h",
         "7.312217194570136",
         "35.008015771299014",
         "522.0",
         "2014-02-20"
        ],
        [
         "13",
         "141713",
         "AS14.01",
         "2014-02-20 11:13:44.448000",
         "sms",
         "1.0",
         "0 days 00:15:10.524000",
         "0.2529233333333333",
         "normal",
         "7.312217194570136",
         "35.008015771299014",
         "522.0",
         "2014-02-20"
        ],
        [
         "14",
         "141714",
         "AS14.01",
         "2014-02-20 11:16:45.930000",
         "sms",
         "1.0",
         "0 days 00:03:01.482000",
         "0.0504116666666666",
         "normal",
         "7.312217194570136",
         "35.008015771299014",
         "522.0",
         "2014-02-20"
        ],
        [
         "15",
         "136481",
         "AS14.01",
         "2014-02-20 13:42:05.309000",
         "call",
         "1.0",
         "0 days 19:31:58.924000",
         "19.533034444444443",
         "12-24h",
         "7.312217194570136",
         "35.008015771299014",
         "522.0",
         "2014-02-20"
        ],
        [
         "16",
         "136482",
         "AS14.01",
         "2014-02-20 13:42:56.997000",
         "call",
         "1.0",
         "0 days 00:00:51.688000",
         "0.0143577777777777",
         "normal",
         "7.312217194570136",
         "35.008015771299014",
         "522.0",
         "2014-02-20"
        ],
        [
         "17",
         "141715",
         "AS14.01",
         "2014-02-21 15:36:58.253000",
         "sms",
         "1.0",
         "1 days 04:20:12.323000",
         "28.33675638888889",
         "24-48h",
         "7.312217194570136",
         "35.008015771299014",
         "522.0",
         "2014-02-21"
        ],
        [
         "18",
         "136483",
         "AS14.01",
         "2014-02-22 17:34:44.325000",
         "call",
         "1.0",
         "2 days 03:51:47.328000",
         "51.86314666666667",
         "48h+",
         "7.312217194570136",
         "35.008015771299014",
         "522.0",
         "2014-02-22"
        ],
        [
         "19",
         "136484",
         "AS14.01",
         "2014-02-22 18:17:55.618000",
         "call",
         "1.0",
         "0 days 00:43:11.293000",
         "0.7198036111111111",
         "normal",
         "7.312217194570136",
         "35.008015771299014",
         "522.0",
         "2014-02-22"
        ],
        [
         "20",
         "141716",
         "AS14.01",
         "2014-02-22 22:32:39.631000",
         "sms",
         "1.0",
         "1 days 06:55:41.378000",
         "30.928160555555554",
         "24-48h",
         "7.312217194570136",
         "35.008015771299014",
         "522.0",
         "2014-02-22"
        ],
        [
         "21",
         "136485",
         "AS14.01",
         "2014-02-25 11:27:52.973000",
         "call",
         "1.0",
         "2 days 17:09:57.355000",
         "65.16593194444445",
         "48h+",
         "7.312217194570136",
         "35.008015771299014",
         "522.0",
         "2014-02-25"
        ],
        [
         "22",
         "136486",
         "AS14.01",
         "2014-02-25 11:38:26.127000",
         "call",
         "1.0",
         "0 days 00:10:33.154000",
         "0.1758761111111111",
         "normal",
         "7.312217194570136",
         "35.008015771299014",
         "522.0",
         "2014-02-25"
        ],
        [
         "23",
         "136487",
         "AS14.01",
         "2014-02-25 12:29:25.009000",
         "call",
         "1.0",
         "0 days 00:50:58.882000",
         "0.8496894444444445",
         "normal",
         "7.312217194570136",
         "35.008015771299014",
         "522.0",
         "2014-02-25"
        ],
        [
         "24",
         "1",
         "AS14.01",
         "2014-02-26 13:00:00",
         "mood",
         "6.0",
         null,
         null,
         null,
         "7.312217194570136",
         "35.008015771299014",
         "522.0",
         "2014-02-26"
        ],
        [
         "25",
         "5642",
         "AS14.01",
         "2014-02-26 13:00:00",
         "circumplex.arousal",
         "-1.0",
         null,
         null,
         null,
         "7.312217194570136",
         "35.008015771299014",
         "522.0",
         "2014-02-26"
        ],
        [
         "26",
         "11285",
         "AS14.01",
         "2014-02-26 13:00:00",
         "circumplex.valence",
         "0.0",
         null,
         null,
         null,
         "7.312217194570136",
         "35.008015771299014",
         "522.0",
         "2014-02-26"
        ],
        [
         "27",
         "2",
         "AS14.01",
         "2014-02-26 15:00:00",
         "mood",
         "6.0",
         "0 days 02:00:00",
         "2.0",
         "normal",
         "7.312217194570136",
         "35.008015771299014",
         "522.0",
         "2014-02-26"
        ],
        [
         "28",
         "5643",
         "AS14.01",
         "2014-02-26 15:00:00",
         "circumplex.arousal",
         "-1.0",
         "0 days 02:00:00",
         "2.0",
         "normal",
         "7.312217194570136",
         "35.008015771299014",
         "522.0",
         "2014-02-26"
        ],
        [
         "29",
         "11286",
         "AS14.01",
         "2014-02-26 15:00:00",
         "circumplex.valence",
         "1.0",
         "0 days 02:00:00",
         "2.0",
         "normal",
         "7.312217194570136",
         "35.008015771299014",
         "522.0",
         "2014-02-26"
        ],
        [
         "30",
         "141717",
         "AS14.01",
         "2014-02-26 16:19:04.586000",
         "sms",
         "1.0",
         "3 days 17:46:24.955000",
         "89.77359861111111",
         "48h+",
         "7.312217194570136",
         "35.008015771299014",
         "522.0",
         "2014-02-26"
        ],
        [
         "31",
         "3",
         "AS14.01",
         "2014-02-26 18:00:00",
         "mood",
         "6.0",
         "0 days 03:00:00",
         "3.0",
         "normal",
         "7.312217194570136",
         "35.008015771299014",
         "522.0",
         "2014-02-26"
        ],
        [
         "32",
         "5644",
         "AS14.01",
         "2014-02-26 18:00:00",
         "circumplex.arousal",
         "0.0",
         "0 days 03:00:00",
         "3.0",
         "normal",
         "7.312217194570136",
         "35.008015771299014",
         "522.0",
         "2014-02-26"
        ],
        [
         "33",
         "11287",
         "AS14.01",
         "2014-02-26 18:00:00",
         "circumplex.valence",
         "1.0",
         "0 days 03:00:00",
         "3.0",
         "normal",
         "7.312217194570136",
         "35.008015771299014",
         "522.0",
         "2014-02-26"
        ],
        [
         "34",
         "136488",
         "AS14.01",
         "2014-02-26 18:10:37.734000",
         "call",
         "1.0",
         "1 days 05:41:12.725000",
         "29.686868055555557",
         "24-48h",
         "7.312217194570136",
         "35.008015771299014",
         "522.0",
         "2014-02-26"
        ],
        [
         "35",
         "4",
         "AS14.01",
         "2014-02-26 21:00:00",
         "mood",
         "7.0",
         "0 days 03:00:00",
         "3.0",
         "normal",
         "7.312217194570136",
         "35.008015771299014",
         "522.0",
         "2014-02-26"
        ],
        [
         "36",
         "5645",
         "AS14.01",
         "2014-02-26 21:00:00",
         "circumplex.arousal",
         "1.0",
         "0 days 03:00:00",
         "3.0",
         "normal",
         "7.312217194570136",
         "35.008015771299014",
         "522.0",
         "2014-02-26"
        ],
        [
         "37",
         "11288",
         "AS14.01",
         "2014-02-26 21:00:00",
         "circumplex.valence",
         "1.0",
         "0 days 03:00:00",
         "3.0",
         "normal",
         "7.312217194570136",
         "35.008015771299014",
         "522.0",
         "2014-02-26"
        ],
        [
         "38",
         "141718",
         "AS14.01",
         "2014-02-26 21:56:25.436000",
         "sms",
         "1.0",
         "0 days 05:37:20.850000",
         "5.622458333333333",
         "normal",
         "7.312217194570136",
         "35.008015771299014",
         "522.0",
         "2014-02-26"
        ],
        [
         "39",
         "5",
         "AS14.01",
         "2014-02-27 09:00:00",
         "mood",
         "6.0",
         "0 days 12:00:00",
         "12.0",
         "normal",
         "7.312217194570136",
         "35.008015771299014",
         "522.0",
         "2014-02-27"
        ],
        [
         "40",
         "5646",
         "AS14.01",
         "2014-02-27 09:00:00",
         "circumplex.arousal",
         "-2.0",
         "0 days 12:00:00",
         "12.0",
         "normal",
         "7.312217194570136",
         "35.008015771299014",
         "522.0",
         "2014-02-27"
        ],
        [
         "41",
         "11289",
         "AS14.01",
         "2014-02-27 09:00:00",
         "circumplex.valence",
         "0.0",
         "0 days 12:00:00",
         "12.0",
         "normal",
         "7.312217194570136",
         "35.008015771299014",
         "522.0",
         "2014-02-27"
        ],
        [
         "42",
         "6",
         "AS14.01",
         "2014-02-27 12:00:00",
         "mood",
         "6.0",
         "0 days 03:00:00",
         "3.0",
         "normal",
         "7.312217194570136",
         "35.008015771299014",
         "522.0",
         "2014-02-27"
        ],
        [
         "43",
         "5647",
         "AS14.01",
         "2014-02-27 12:00:00",
         "circumplex.arousal",
         "1.0",
         "0 days 03:00:00",
         "3.0",
         "normal",
         "7.312217194570136",
         "35.008015771299014",
         "522.0",
         "2014-02-27"
        ],
        [
         "44",
         "11290",
         "AS14.01",
         "2014-02-27 12:00:00",
         "circumplex.valence",
         "0.0",
         "0 days 03:00:00",
         "3.0",
         "normal",
         "7.312217194570136",
         "35.008015771299014",
         "522.0",
         "2014-02-27"
        ],
        [
         "45",
         "7",
         "AS14.01",
         "2014-02-27 15:00:00",
         "mood",
         "7.0",
         "0 days 03:00:00",
         "3.0",
         "normal",
         "7.312217194570136",
         "35.008015771299014",
         "522.0",
         "2014-02-27"
        ],
        [
         "46",
         "5648",
         "AS14.01",
         "2014-02-27 15:00:00",
         "circumplex.arousal",
         "1.0",
         "0 days 03:00:00",
         "3.0",
         "normal",
         "7.312217194570136",
         "35.008015771299014",
         "522.0",
         "2014-02-27"
        ],
        [
         "47",
         "11291",
         "AS14.01",
         "2014-02-27 15:00:00",
         "circumplex.valence",
         "1.0",
         "0 days 03:00:00",
         "3.0",
         "normal",
         "7.312217194570136",
         "35.008015771299014",
         "522.0",
         "2014-02-27"
        ],
        [
         "48",
         "136489",
         "AS14.01",
         "2014-02-28 20:14:52.927000",
         "call",
         "1.0",
         "2 days 02:04:15.193000",
         "50.070886944444446",
         "48h+",
         "7.312217194570136",
         "35.008015771299014",
         "522.0",
         "2014-02-28"
        ],
        [
         "49",
         "136490",
         "AS14.01",
         "2014-02-28 20:48:09.859000",
         "call",
         "1.0",
         "0 days 00:33:16.932000",
         "0.5547033333333333",
         "normal",
         "7.312217194570136",
         "35.008015771299014",
         "522.0",
         "2014-02-28"
        ]
       ],
       "shape": {
        "columns": 12,
        "rows": 363212
       }
      },
      "text/html": [
       "<div>\n",
       "<style scoped>\n",
       "    .dataframe tbody tr th:only-of-type {\n",
       "        vertical-align: middle;\n",
       "    }\n",
       "\n",
       "    .dataframe tbody tr th {\n",
       "        vertical-align: top;\n",
       "    }\n",
       "\n",
       "    .dataframe thead th {\n",
       "        text-align: right;\n",
       "    }\n",
       "</style>\n",
       "<table border=\"1\" class=\"dataframe\">\n",
       "  <thead>\n",
       "    <tr style=\"text-align: right;\">\n",
       "      <th></th>\n",
       "      <th>Unnamed: 0</th>\n",
       "      <th>id</th>\n",
       "      <th>time</th>\n",
       "      <th>variable</th>\n",
       "      <th>value</th>\n",
       "      <th>time_since_last</th>\n",
       "      <th>hours_since_last</th>\n",
       "      <th>gap_category</th>\n",
       "      <th>avg_gap_hours</th>\n",
       "      <th>gap_std_hours</th>\n",
       "      <th>max_gap_hours</th>\n",
       "      <th>date</th>\n",
       "    </tr>\n",
       "  </thead>\n",
       "  <tbody>\n",
       "    <tr>\n",
       "      <th>0</th>\n",
       "      <td>136471</td>\n",
       "      <td>AS14.01</td>\n",
       "      <td>2014-02-17 12:04:42.394</td>\n",
       "      <td>call</td>\n",
       "      <td>1.000</td>\n",
       "      <td>NaN</td>\n",
       "      <td>NaN</td>\n",
       "      <td>NaN</td>\n",
       "      <td>7.312217</td>\n",
       "      <td>35.008016</td>\n",
       "      <td>522.0</td>\n",
       "      <td>2014-02-17</td>\n",
       "    </tr>\n",
       "    <tr>\n",
       "      <th>1</th>\n",
       "      <td>136472</td>\n",
       "      <td>AS14.01</td>\n",
       "      <td>2014-02-17 18:28:25.520</td>\n",
       "      <td>call</td>\n",
       "      <td>1.000</td>\n",
       "      <td>0 days 06:23:43.126000</td>\n",
       "      <td>6.395313</td>\n",
       "      <td>normal</td>\n",
       "      <td>7.312217</td>\n",
       "      <td>35.008016</td>\n",
       "      <td>522.0</td>\n",
       "      <td>2014-02-17</td>\n",
       "    </tr>\n",
       "    <tr>\n",
       "      <th>2</th>\n",
       "      <td>136473</td>\n",
       "      <td>AS14.01</td>\n",
       "      <td>2014-02-18 09:29:51.257</td>\n",
       "      <td>call</td>\n",
       "      <td>1.000</td>\n",
       "      <td>0 days 15:01:25.737000</td>\n",
       "      <td>15.023816</td>\n",
       "      <td>12-24h</td>\n",
       "      <td>7.312217</td>\n",
       "      <td>35.008016</td>\n",
       "      <td>522.0</td>\n",
       "      <td>2014-02-18</td>\n",
       "    </tr>\n",
       "    <tr>\n",
       "      <th>3</th>\n",
       "      <td>136474</td>\n",
       "      <td>AS14.01</td>\n",
       "      <td>2014-02-19 14:43:30.575</td>\n",
       "      <td>call</td>\n",
       "      <td>1.000</td>\n",
       "      <td>1 days 05:13:39.318000</td>\n",
       "      <td>29.227588</td>\n",
       "      <td>24-48h</td>\n",
       "      <td>7.312217</td>\n",
       "      <td>35.008016</td>\n",
       "      <td>522.0</td>\n",
       "      <td>2014-02-19</td>\n",
       "    </tr>\n",
       "    <tr>\n",
       "      <th>4</th>\n",
       "      <td>136475</td>\n",
       "      <td>AS14.01</td>\n",
       "      <td>2014-02-19 17:29:10.378</td>\n",
       "      <td>call</td>\n",
       "      <td>1.000</td>\n",
       "      <td>0 days 02:45:39.803000</td>\n",
       "      <td>2.761056</td>\n",
       "      <td>normal</td>\n",
       "      <td>7.312217</td>\n",
       "      <td>35.008016</td>\n",
       "      <td>522.0</td>\n",
       "      <td>2014-02-19</td>\n",
       "    </tr>\n",
       "    <tr>\n",
       "      <th>...</th>\n",
       "      <td>...</td>\n",
       "      <td>...</td>\n",
       "      <td>...</td>\n",
       "      <td>...</td>\n",
       "      <td>...</td>\n",
       "      <td>...</td>\n",
       "      <td>...</td>\n",
       "      <td>...</td>\n",
       "      <td>...</td>\n",
       "      <td>...</td>\n",
       "      <td>...</td>\n",
       "      <td>...</td>\n",
       "    </tr>\n",
       "    <tr>\n",
       "      <th>363207</th>\n",
       "      <td>233404</td>\n",
       "      <td>AS14.33</td>\n",
       "      <td>2014-05-30 22:32:14.240</td>\n",
       "      <td>appCat.builtin</td>\n",
       "      <td>1.003</td>\n",
       "      <td>0 days 00:00:03.191000</td>\n",
       "      <td>0.000886</td>\n",
       "      <td>normal</td>\n",
       "      <td>5.821622</td>\n",
       "      <td>6.024007</td>\n",
       "      <td>55.0</td>\n",
       "      <td>2014-05-30</td>\n",
       "    </tr>\n",
       "    <tr>\n",
       "      <th>363208</th>\n",
       "      <td>233405</td>\n",
       "      <td>AS14.33</td>\n",
       "      <td>2014-05-30 22:32:15.246</td>\n",
       "      <td>appCat.builtin</td>\n",
       "      <td>4.134</td>\n",
       "      <td>0 days 00:00:01.006000</td>\n",
       "      <td>0.000279</td>\n",
       "      <td>normal</td>\n",
       "      <td>5.821622</td>\n",
       "      <td>6.024007</td>\n",
       "      <td>55.0</td>\n",
       "      <td>2014-05-30</td>\n",
       "    </tr>\n",
       "    <tr>\n",
       "      <th>363209</th>\n",
       "      <td>5641</td>\n",
       "      <td>AS14.33</td>\n",
       "      <td>2014-05-31 12:00:00.000</td>\n",
       "      <td>mood</td>\n",
       "      <td>7.000</td>\n",
       "      <td>0 days 16:00:00</td>\n",
       "      <td>16.000000</td>\n",
       "      <td>12-24h</td>\n",
       "      <td>5.821622</td>\n",
       "      <td>6.024007</td>\n",
       "      <td>55.0</td>\n",
       "      <td>2014-05-31</td>\n",
       "    </tr>\n",
       "    <tr>\n",
       "      <th>363210</th>\n",
       "      <td>11284</td>\n",
       "      <td>AS14.33</td>\n",
       "      <td>2014-05-31 12:00:00.000</td>\n",
       "      <td>circumplex.arousal</td>\n",
       "      <td>-2.000</td>\n",
       "      <td>0 days 16:00:00</td>\n",
       "      <td>16.000000</td>\n",
       "      <td>12-24h</td>\n",
       "      <td>5.821622</td>\n",
       "      <td>6.024007</td>\n",
       "      <td>55.0</td>\n",
       "      <td>2014-05-31</td>\n",
       "    </tr>\n",
       "    <tr>\n",
       "      <th>363211</th>\n",
       "      <td>16927</td>\n",
       "      <td>AS14.33</td>\n",
       "      <td>2014-05-31 12:00:00.000</td>\n",
       "      <td>circumplex.valence</td>\n",
       "      <td>1.000</td>\n",
       "      <td>0 days 16:00:00</td>\n",
       "      <td>16.000000</td>\n",
       "      <td>12-24h</td>\n",
       "      <td>5.821622</td>\n",
       "      <td>6.024007</td>\n",
       "      <td>55.0</td>\n",
       "      <td>2014-05-31</td>\n",
       "    </tr>\n",
       "  </tbody>\n",
       "</table>\n",
       "<p>363212 rows × 12 columns</p>\n",
       "</div>"
      ],
      "text/plain": [
       "        Unnamed: 0       id                    time            variable  \\\n",
       "0           136471  AS14.01 2014-02-17 12:04:42.394                call   \n",
       "1           136472  AS14.01 2014-02-17 18:28:25.520                call   \n",
       "2           136473  AS14.01 2014-02-18 09:29:51.257                call   \n",
       "3           136474  AS14.01 2014-02-19 14:43:30.575                call   \n",
       "4           136475  AS14.01 2014-02-19 17:29:10.378                call   \n",
       "...            ...      ...                     ...                 ...   \n",
       "363207      233404  AS14.33 2014-05-30 22:32:14.240      appCat.builtin   \n",
       "363208      233405  AS14.33 2014-05-30 22:32:15.246      appCat.builtin   \n",
       "363209        5641  AS14.33 2014-05-31 12:00:00.000                mood   \n",
       "363210       11284  AS14.33 2014-05-31 12:00:00.000  circumplex.arousal   \n",
       "363211       16927  AS14.33 2014-05-31 12:00:00.000  circumplex.valence   \n",
       "\n",
       "        value         time_since_last  hours_since_last gap_category  \\\n",
       "0       1.000                     NaN               NaN          NaN   \n",
       "1       1.000  0 days 06:23:43.126000          6.395313       normal   \n",
       "2       1.000  0 days 15:01:25.737000         15.023816       12-24h   \n",
       "3       1.000  1 days 05:13:39.318000         29.227588       24-48h   \n",
       "4       1.000  0 days 02:45:39.803000          2.761056       normal   \n",
       "...       ...                     ...               ...          ...   \n",
       "363207  1.003  0 days 00:00:03.191000          0.000886       normal   \n",
       "363208  4.134  0 days 00:00:01.006000          0.000279       normal   \n",
       "363209  7.000         0 days 16:00:00         16.000000       12-24h   \n",
       "363210 -2.000         0 days 16:00:00         16.000000       12-24h   \n",
       "363211  1.000         0 days 16:00:00         16.000000       12-24h   \n",
       "\n",
       "        avg_gap_hours  gap_std_hours  max_gap_hours        date  \n",
       "0            7.312217      35.008016          522.0  2014-02-17  \n",
       "1            7.312217      35.008016          522.0  2014-02-17  \n",
       "2            7.312217      35.008016          522.0  2014-02-18  \n",
       "3            7.312217      35.008016          522.0  2014-02-19  \n",
       "4            7.312217      35.008016          522.0  2014-02-19  \n",
       "...               ...            ...            ...         ...  \n",
       "363207       5.821622       6.024007           55.0  2014-05-30  \n",
       "363208       5.821622       6.024007           55.0  2014-05-30  \n",
       "363209       5.821622       6.024007           55.0  2014-05-31  \n",
       "363210       5.821622       6.024007           55.0  2014-05-31  \n",
       "363211       5.821622       6.024007           55.0  2014-05-31  \n",
       "\n",
       "[363212 rows x 12 columns]"
      ]
     },
     "execution_count": 3,
     "metadata": {},
     "output_type": "execute_result"
    }
   ],
   "source": [
    "mood = pd.read_csv(CLEANED_DATA_PATH)\n",
    "mood['time'] = pd.to_datetime(mood['time'], format='mixed',  errors='coerce')\n",
    "# Add date column\n",
    "mood['date'] = mood['time'].dt.date\n",
    "\n",
    "mood"
   ]
  },
  {
   "cell_type": "code",
   "execution_count": 4,
   "id": "1f2c7116",
   "metadata": {},
   "outputs": [
    {
     "name": "stdout",
     "output_type": "stream",
     "text": [
      "<bound method Index.min of DatetimeIndex(['2014-02-17', '2014-02-18', '2014-02-19', '2014-02-20',\n",
      "               '2014-02-21', '2014-02-22', '2014-02-23', '2014-02-24',\n",
      "               '2014-02-25', '2014-02-26',\n",
      "               ...\n",
      "               '2014-05-31', '2014-06-01', '2014-06-02', '2014-06-03',\n",
      "               '2014-06-04', '2014-06-05', '2014-06-06', '2014-06-07',\n",
      "               '2014-06-08', '2014-06-09'],\n",
      "              dtype='datetime64[ns]', length=113, freq='D')>\n"
     ]
    },
    {
     "data": {
      "image/png": "[encoded data removed]",
      "text/plain": [
       "<Figure size 1600x800 with 4 Axes>"
      ]
     },
     "metadata": {},
     "output_type": "display_data"
    }
   ],
   "source": [
    "date_range = pd.date_range(start=mood['date'].min(), end=mood['date'].max())\n",
    "\n",
    "users_of_interest = ['AS14.01','AS14.03','AS14.17','AS14.32']\n",
    "print(date_range.min)\n",
    "mood_counts = mood.loc[mood['variable'] == 'mood', ['date','id', 'variable']].groupby(['id','date']).count().reset_index()\n",
    "\n",
    "fig, axes = plt.subplots(nrows=2,ncols=2, figsize=(16, 8))\n",
    "axes = axes.flatten()\n",
    "\n",
    "for i, user in enumerate(users_of_interest):\n",
    "    user_mood_counts = mood_counts[mood_counts['id'] == user]\n",
    "    user_mood_counts.set_index('date').reindex(date_range, fill_value=0)\n",
    "    \n",
    "    axes[i].bar(user_mood_counts['date'], user_mood_counts['variable'])\n",
    "    axes[i].set_title(f'{user}')\n",
    "    axes[i].set_xlim(date_range.min(), date_range.max())\n",
    "    axes[i].set_xlabel('Date')\n",
    "    axes[i].set_ylabel('Mood Entries')\n",
    "    axes[i].tick_params(axis='x', rotation=90)\n",
    "    # Format the x-axis dates\n",
    "    axes[i].xaxis.set_major_formatter(matplotlib.dates.DateFormatter('%d/%m'))  # Format as \"Month Day\" (e.g., \"Mar 01\")\n",
    "    axes[i].xaxis.set_major_locator(matplotlib.dates.WeekdayLocator(interval=1))  # Show ticks every week\n",
    "\n",
    "plt.tight_layout()\n",
    "plt.savefig('plots/mood_counts_users_of_interest.png')\n",
    "plt.show()\n",
    "\n"
   ]
  },
  {
   "cell_type": "code",
   "execution_count": null,
   "id": "b8de3b18",
   "metadata": {},
   "outputs": [
    {
     "data": {
      "application/vnd.microsoft.datawrangler.viewer.v0+json": {
       "columns": [
        {
         "name": "variable",
         "rawType": "int64",
         "type": "integer"
        },
        {
         "name": "value",
         "rawType": "float64",
         "type": "float"
        }
       ],
       "conversionMethod": "pd.DataFrame",
       "ref": "6dd54389-72cb-44d4-97ba-a1325680683d",
       "rows": [
        [
         "1",
         "7.310344827586207"
        ],
        [
         "2",
         "7.017543859649122"
        ],
        [
         "3",
         "6.818930041152264"
        ],
        [
         "4",
         "7.004208754208754"
        ],
        [
         "5",
         "7.040051020408163"
        ],
        [
         "6",
         "6.824561403508771"
        ]
       ],
       "shape": {
        "columns": 1,
        "rows": 6
       }
      },
      "text/html": [
       "<div>\n",
       "<style scoped>\n",
       "    .dataframe tbody tr th:only-of-type {\n",
       "        vertical-align: middle;\n",
       "    }\n",
       "\n",
       "    .dataframe tbody tr th {\n",
       "        vertical-align: top;\n",
       "    }\n",
       "\n",
       "    .dataframe thead th {\n",
       "        text-align: right;\n",
       "    }\n",
       "</style>\n",
       "<table border=\"1\" class=\"dataframe\">\n",
       "  <thead>\n",
       "    <tr style=\"text-align: right;\">\n",
       "      <th></th>\n",
       "      <th>value</th>\n",
       "    </tr>\n",
       "    <tr>\n",
       "      <th>variable</th>\n",
       "      <th></th>\n",
       "    </tr>\n",
       "  </thead>\n",
       "  <tbody>\n",
       "    <tr>\n",
       "      <th>1</th>\n",
       "      <td>7.310345</td>\n",
       "    </tr>\n",
       "    <tr>\n",
       "      <th>2</th>\n",
       "      <td>7.017544</td>\n",
       "    </tr>\n",
       "    <tr>\n",
       "      <th>3</th>\n",
       "      <td>6.818930</td>\n",
       "    </tr>\n",
       "    <tr>\n",
       "      <th>4</th>\n",
       "      <td>7.004209</td>\n",
       "    </tr>\n",
       "    <tr>\n",
       "      <th>5</th>\n",
       "      <td>7.040051</td>\n",
       "    </tr>\n",
       "    <tr>\n",
       "      <th>6</th>\n",
       "      <td>6.824561</td>\n",
       "    </tr>\n",
       "  </tbody>\n",
       "</table>\n",
       "</div>"
      ],
      "text/plain": [
       "             value\n",
       "variable          \n",
       "1         7.310345\n",
       "2         7.017544\n",
       "3         6.818930\n",
       "4         7.004209\n",
       "5         7.040051\n",
       "6         6.824561"
      ]
     },
     "execution_count": 31,
     "metadata": {},
     "output_type": "execute_result"
    }
   ],
   "source": [
    "mood_counts = mood.loc[mood['variable'] == 'mood', ['date','id', 'variable', 'value']].groupby(['id','date']).agg({'variable': 'count', 'value': 'mean'}).reset_index()\n",
    "mood_counts = mood_counts.rename({'variable':'n_mood_measurement', 'value':'daily_avg_mood'})\n",
    "\n",
    "mood_counts.groupby('variable').mean('value') #HMMM\n",
    "\n",
    "\n"
   ]
  },
  {
   "cell_type": "markdown",
   "id": "f415881d",
   "metadata": {},
   "source": [
    "# Step 1 get daily data"
   ]
  },
  {
   "cell_type": "code",
   "execution_count": 6,
   "id": "1303e5d6",
   "metadata": {},
   "outputs": [
    {
     "data": {
      "application/vnd.microsoft.datawrangler.viewer.v0+json": {
       "columns": [
        {
         "name": "index",
         "rawType": "int64",
         "type": "integer"
        },
        {
         "name": "id",
         "rawType": "object",
         "type": "string"
        },
        {
         "name": "date",
         "rawType": "datetime64[ns]",
         "type": "datetime"
        },
        {
         "name": "mood",
         "rawType": "float64",
         "type": "float"
        }
       ],
       "conversionMethod": "pd.DataFrame",
       "ref": "8b08b05f-1982-46cb-be53-8ec0b28f254c",
       "rows": [
        [
         "72",
         "AS14.02",
         "2014-02-17 00:00:00",
         null
        ],
        [
         "73",
         "AS14.02",
         "2014-02-18 00:00:00",
         null
        ],
        [
         "74",
         "AS14.02",
         "2014-02-19 00:00:00",
         null
        ],
        [
         "75",
         "AS14.02",
         "2014-02-20 00:00:00",
         null
        ],
        [
         "76",
         "AS14.02",
         "2014-02-21 00:00:00",
         null
        ],
        [
         "77",
         "AS14.02",
         "2014-02-22 00:00:00",
         null
        ],
        [
         "78",
         "AS14.02",
         "2014-02-23 00:00:00",
         null
        ],
        [
         "79",
         "AS14.02",
         "2014-02-24 00:00:00",
         null
        ],
        [
         "80",
         "AS14.02",
         "2014-02-25 00:00:00",
         null
        ],
        [
         "81",
         "AS14.02",
         "2014-02-26 00:00:00",
         null
        ],
        [
         "82",
         "AS14.02",
         "2014-02-27 00:00:00",
         null
        ],
        [
         "83",
         "AS14.02",
         "2014-02-28 00:00:00",
         null
        ],
        [
         "84",
         "AS14.02",
         "2014-03-01 00:00:00",
         null
        ],
        [
         "85",
         "AS14.02",
         "2014-03-02 00:00:00",
         null
        ],
        [
         "86",
         "AS14.02",
         "2014-03-03 00:00:00",
         null
        ],
        [
         "87",
         "AS14.02",
         "2014-03-04 00:00:00",
         null
        ],
        [
         "88",
         "AS14.02",
         "2014-03-05 00:00:00",
         null
        ],
        [
         "89",
         "AS14.02",
         "2014-03-06 00:00:00",
         null
        ],
        [
         "90",
         "AS14.02",
         "2014-03-07 00:00:00",
         null
        ],
        [
         "91",
         "AS14.02",
         "2014-03-08 00:00:00",
         null
        ],
        [
         "92",
         "AS14.02",
         "2014-03-09 00:00:00",
         null
        ],
        [
         "93",
         "AS14.02",
         "2014-03-10 00:00:00",
         null
        ],
        [
         "94",
         "AS14.02",
         "2014-03-11 00:00:00",
         null
        ],
        [
         "95",
         "AS14.02",
         "2014-03-12 00:00:00",
         null
        ],
        [
         "96",
         "AS14.02",
         "2014-03-13 00:00:00",
         null
        ],
        [
         "97",
         "AS14.02",
         "2014-03-14 00:00:00",
         null
        ],
        [
         "98",
         "AS14.02",
         "2014-03-15 00:00:00",
         null
        ],
        [
         "99",
         "AS14.02",
         "2014-03-16 00:00:00",
         "6.333333333333333"
        ],
        [
         "100",
         "AS14.02",
         "2014-03-17 00:00:00",
         "6.75"
        ],
        [
         "101",
         "AS14.02",
         "2014-03-18 00:00:00",
         "8.2"
        ],
        [
         "102",
         "AS14.02",
         "2014-03-19 00:00:00",
         "6.8"
        ],
        [
         "103",
         "AS14.02",
         "2014-03-20 00:00:00",
         "7.25"
        ],
        [
         "104",
         "AS14.02",
         "2014-03-21 00:00:00",
         "7.5"
        ],
        [
         "105",
         "AS14.02",
         "2014-03-22 00:00:00",
         "6.5"
        ],
        [
         "106",
         "AS14.02",
         "2014-03-23 00:00:00",
         "6.25"
        ],
        [
         "107",
         "AS14.02",
         "2014-03-24 00:00:00",
         "6.4"
        ],
        [
         "108",
         "AS14.02",
         "2014-03-25 00:00:00",
         "7.75"
        ],
        [
         "109",
         "AS14.02",
         "2014-03-26 00:00:00",
         "7.2"
        ],
        [
         "110",
         "AS14.02",
         "2014-03-27 00:00:00",
         "7.25"
        ],
        [
         "111",
         "AS14.02",
         "2014-03-28 00:00:00",
         "6.8"
        ],
        [
         "112",
         "AS14.02",
         "2014-03-29 00:00:00",
         "7.25"
        ],
        [
         "113",
         "AS14.02",
         "2014-03-30 00:00:00",
         "7.0"
        ],
        [
         "114",
         "AS14.02",
         "2014-03-31 00:00:00",
         "7.2"
        ],
        [
         "115",
         "AS14.02",
         "2014-04-01 00:00:00",
         "7.4"
        ],
        [
         "116",
         "AS14.02",
         "2014-04-02 00:00:00",
         "6.4"
        ],
        [
         "117",
         "AS14.02",
         "2014-04-03 00:00:00",
         "5.75"
        ],
        [
         "118",
         "AS14.02",
         "2014-04-04 00:00:00",
         "6.4"
        ],
        [
         "119",
         "AS14.02",
         "2014-04-05 00:00:00",
         "7.4"
        ],
        [
         "120",
         "AS14.02",
         "2014-04-06 00:00:00",
         "5.0"
        ],
        [
         "121",
         "AS14.02",
         "2014-04-07 00:00:00",
         "6.8"
        ]
       ],
       "shape": {
        "columns": 3,
        "rows": 68
       }
      },
      "text/html": [
       "<div>\n",
       "<style scoped>\n",
       "    .dataframe tbody tr th:only-of-type {\n",
       "        vertical-align: middle;\n",
       "    }\n",
       "\n",
       "    .dataframe tbody tr th {\n",
       "        vertical-align: top;\n",
       "    }\n",
       "\n",
       "    .dataframe thead th {\n",
       "        text-align: right;\n",
       "    }\n",
       "</style>\n",
       "<table border=\"1\" class=\"dataframe\">\n",
       "  <thead>\n",
       "    <tr style=\"text-align: right;\">\n",
       "      <th>variable</th>\n",
       "      <th>id</th>\n",
       "      <th>date</th>\n",
       "      <th>mood</th>\n",
       "    </tr>\n",
       "  </thead>\n",
       "  <tbody>\n",
       "    <tr>\n",
       "      <th>72</th>\n",
       "      <td>AS14.02</td>\n",
       "      <td>2014-02-17</td>\n",
       "      <td>NaN</td>\n",
       "    </tr>\n",
       "    <tr>\n",
       "      <th>73</th>\n",
       "      <td>AS14.02</td>\n",
       "      <td>2014-02-18</td>\n",
       "      <td>NaN</td>\n",
       "    </tr>\n",
       "    <tr>\n",
       "      <th>74</th>\n",
       "      <td>AS14.02</td>\n",
       "      <td>2014-02-19</td>\n",
       "      <td>NaN</td>\n",
       "    </tr>\n",
       "    <tr>\n",
       "      <th>75</th>\n",
       "      <td>AS14.02</td>\n",
       "      <td>2014-02-20</td>\n",
       "      <td>NaN</td>\n",
       "    </tr>\n",
       "    <tr>\n",
       "      <th>76</th>\n",
       "      <td>AS14.02</td>\n",
       "      <td>2014-02-21</td>\n",
       "      <td>NaN</td>\n",
       "    </tr>\n",
       "    <tr>\n",
       "      <th>...</th>\n",
       "      <td>...</td>\n",
       "      <td>...</td>\n",
       "      <td>...</td>\n",
       "    </tr>\n",
       "    <tr>\n",
       "      <th>135</th>\n",
       "      <td>AS14.02</td>\n",
       "      <td>2014-04-21</td>\n",
       "      <td>5.500000</td>\n",
       "    </tr>\n",
       "    <tr>\n",
       "      <th>136</th>\n",
       "      <td>AS14.02</td>\n",
       "      <td>2014-04-22</td>\n",
       "      <td>5.666667</td>\n",
       "    </tr>\n",
       "    <tr>\n",
       "      <th>137</th>\n",
       "      <td>AS14.02</td>\n",
       "      <td>2014-04-23</td>\n",
       "      <td>8.000000</td>\n",
       "    </tr>\n",
       "    <tr>\n",
       "      <th>138</th>\n",
       "      <td>AS14.02</td>\n",
       "      <td>2014-04-24</td>\n",
       "      <td>7.000000</td>\n",
       "    </tr>\n",
       "    <tr>\n",
       "      <th>139</th>\n",
       "      <td>AS14.02</td>\n",
       "      <td>2014-04-25</td>\n",
       "      <td>9.000000</td>\n",
       "    </tr>\n",
       "  </tbody>\n",
       "</table>\n",
       "<p>68 rows × 3 columns</p>\n",
       "</div>"
      ],
      "text/plain": [
       "variable       id       date      mood\n",
       "72        AS14.02 2014-02-17       NaN\n",
       "73        AS14.02 2014-02-18       NaN\n",
       "74        AS14.02 2014-02-19       NaN\n",
       "75        AS14.02 2014-02-20       NaN\n",
       "76        AS14.02 2014-02-21       NaN\n",
       "..            ...        ...       ...\n",
       "135       AS14.02 2014-04-21  5.500000\n",
       "136       AS14.02 2014-04-22  5.666667\n",
       "137       AS14.02 2014-04-23  8.000000\n",
       "138       AS14.02 2014-04-24  7.000000\n",
       "139       AS14.02 2014-04-25  9.000000\n",
       "\n",
       "[68 rows x 3 columns]"
      ]
     },
     "execution_count": 6,
     "metadata": {},
     "output_type": "execute_result"
    }
   ],
   "source": [
    "# List with all unique users\n",
    "user_ids = mood['id'].unique()\n",
    "numeric_cols = mood.select_dtypes(include=['number']).columns\n",
    "\n",
    "daily_mood = mood.pivot_table(\n",
    "    values = 'value',\n",
    "    index = ['id','date'],\n",
    "    columns= 'variable',\n",
    "    aggfunc='mean'\n",
    ").reset_index()\n",
    "\n",
    "daily_mood = daily_mood.sort_values(['id','date'])\n",
    "daily_mood['mood_diff'] = daily_mood['mood'].diff()\n",
    "daily_mood['date'] = pd.to_datetime(daily_mood['date'], errors='coerce')\n",
    "daily_mood['day_of_week'] = daily_mood['date'].dt.day_of_week\n",
    "\n",
    "def created_lagged_variables(df, variable: str, number_of_lags: int):\n",
    "    for i in range(1, number_of_lags + 1):\n",
    "        df[f'lag_{i}_{variable}'] = df.groupby('id')[variable].shift(i)\n",
    "    return df\n",
    "\n",
    "lagged_columns = (daily_mood.columns[daily_mood.columns.str.startswith('lag')])\n",
    "lagged_columns = lagged_columns.to_list()\n",
    "\n",
    "# Check results, seems to be valid\n",
    "daily_mood[daily_mood['id'] == user_ids[1]][lagged_columns + ['id','date','mood']]"
   ]
  },
  {
   "cell_type": "markdown",
   "id": "87f034bc",
   "metadata": {},
   "source": [
    "## Exploring Daily Data"
   ]
  },
  {
   "cell_type": "code",
   "execution_count": 7,
   "id": "6c02fb31",
   "metadata": {},
   "outputs": [
    {
     "name": "stdout",
     "output_type": "stream",
     "text": [
      "variable       date  mood\n",
      "0        2014-02-17   NaN\n",
      "1        2014-02-18   NaN\n",
      "2        2014-02-19   NaN\n",
      "3        2014-02-20   NaN\n",
      "4        2014-02-21   NaN\n",
      "..              ...   ...\n",
      "108      2014-06-05   7.0\n",
      "109      2014-06-06   7.5\n",
      "110      2014-06-07   8.0\n",
      "111      2014-06-08   6.5\n",
      "112      2014-06-09   NaN\n",
      "\n",
      "[113 rows x 2 columns]\n"
     ]
    },
    {
     "data": {
      "image/png": "[encoded data removed]",
      "text/plain": [
       "<Figure size 640x480 with 1 Axes>"
      ]
     },
     "metadata": {},
     "output_type": "display_data"
    },
    {
     "data": {
      "image/png": "[encoded data removed]",
      "text/plain": [
       "<Figure size 640x480 with 1 Axes>"
      ]
     },
     "metadata": {},
     "output_type": "display_data"
    }
   ],
   "source": [
    "plot_data_daily = daily_mood[['mood','date']].groupby('date').mean().reset_index()\n",
    "print(plot_data_daily)\n",
    "\n",
    "\n",
    "plt.figure()\n",
    "plt.plot(daily_mood[['mood','day_of_week']].groupby('day_of_week').mean())\n",
    "plt.show()\n",
    "\n",
    "\n",
    "plot_data_daily\n",
    "\n",
    "plt.figure()\n",
    "plt.bar(plot_data_daily['date'], plot_data_daily['mood'])\n",
    "plt.show()\n",
    "\n"
   ]
  },
  {
   "cell_type": "markdown",
   "id": "a0f67a96",
   "metadata": {},
   "source": [
    "### Lag analysis\n",
    "Question to answer: How many lags to include in our model? Which lagged values determine today's mood?"
   ]
  },
  {
   "cell_type": "markdown",
   "id": "79326060",
   "metadata": {},
   "source": [
    "#### Plotting functions"
   ]
  },
  {
   "cell_type": "code",
   "execution_count": 8,
   "id": "b14597ad",
   "metadata": {},
   "outputs": [],
   "source": [
    "def plot_mean_pacf(df, ax=None):\n",
    "    \"\"\"\n",
    "    Plot the mean partial-correlation function (PCCF) across all users on the given axis.\n",
    "    \"\"\"\n",
    "    pacf_by_user = {}\n",
    "    user_ids = df['id'].unique()\n",
    "    for user_id in user_ids:\n",
    "        user_mood = df[df['id'] == user_id]['mood'].dropna()\n",
    "        pacf_values = pacf(user_mood, nlags=14, method='ywm')\n",
    "        pacf_by_user[user_id] = pacf_values\n",
    "\n",
    "    df_pacf_by_user = pd.DataFrame(pacf_by_user)\n",
    "    mean_pacf = df_pacf_by_user.mean(axis=1)\n",
    "    lags = np.arange(len(df_pacf_by_user))\n",
    "    if ax is None:\n",
    "        fig, ax = plt.subplots()\n",
    "    ax.bar(lags, mean_pacf, alpha=0.7)\n",
    "    ax.axhline(0, color='black', linestyle='--')\n",
    "    ax.set_xlabel('Lag')\n",
    "    ax.set_ylabel('Mean PACF')\n",
    "    ax.set_title('Mean PACF (mood)')\n",
    "    return ax\n",
    "    \n",
    "def plot_mean_ccf(daily_df, var1='mood', var2='activity', max_lag=14, ax=None):\n",
    "    \"\"\"\n",
    "    Plot the mean cross-correlation function (CCF) between two variables across all users on the given axis.\n",
    "    \"\"\"\n",
    "    from statsmodels.tsa.stattools import ccf\n",
    "    user_ids = daily_df['id'].unique()\n",
    "    ccf_list = []\n",
    "    for user_id in user_ids:\n",
    "        user_data = daily_df[daily_df['id'] == user_id].sort_values('date')\n",
    "        s1 = user_data[var1].dropna()\n",
    "        s2 = user_data[var2].dropna()\n",
    "        min_len = min(len(s1), len(s2))\n",
    "        if min_len > max_lag:\n",
    "            ccf_vals = ccf(s1.iloc[:min_len], s2.iloc[:min_len])[:max_lag+1]\n",
    "            ccf_list.append(ccf_vals)\n",
    "    if not ccf_list:\n",
    "        print(f\"Not enough data to compute CCF for {var1} and {var2}.\")\n",
    "        return None\n",
    "    ccf_arr = np.array(ccf_list)\n",
    "    mean_ccf = ccf_arr.mean(axis=0)\n",
    "    lags = np.arange(len(mean_ccf))\n",
    "    if ax is None:\n",
    "        fig, ax = plt.subplots()\n",
    "    ax.bar(lags, mean_ccf, alpha=0.7)\n",
    "    ax.set_xlabel('Lag')\n",
    "    ax.set_ylabel(f'Mean CCF\\n({var1}, {var2})')\n",
    "    ax.set_ylim((-1, 1))\n",
    "    ax.axhline(0, color='black', linestyle='--')\n",
    "    ax.set_title(f'{var1} vs {var2}')\n",
    "    return ax"
   ]
  },
  {
   "cell_type": "markdown",
   "id": "fe18ca8a",
   "metadata": {},
   "source": [
    "## Plotting the PACF and the CCF per user"
   ]
  },
  {
   "cell_type": "code",
   "execution_count": null,
   "id": "18e64a05",
   "metadata": {},
   "outputs": [
    {
     "data": {
      "image/png": "[encoded data removed]",
      "text/plain": [
       "<Figure size 1600x800 with 4 Axes>"
      ]
     },
     "metadata": {},
     "output_type": "display_data"
    }
   ],
   "source": [
    "fig, axs = plt.subplots(nrows=2, ncols=2, figsize=(16, 8))\n",
    "axs = axs.flatten()\n",
    "\n",
    "# First plot: PACF\n",
    "plot_mean_pacf(daily_mood, ax=axs[0])\n",
    "\n",
    "# Next plots: CCFs\n",
    "ccf_vars = [\n",
    "    ('mood', 'activity'),\n",
    "    ('mood', 'circumplex.arousal'),\n",
    "    ('mood', 'circumplex.valence'),\n",
    "]\n",
    "\n",
    "for i, (var1, var2) in enumerate(ccf_vars):\n",
    "    plot_mean_ccf(daily_mood, var1=var1, var2=var2, max_lag=14, ax=axs[i+1])\n",
    "\n",
    "plt.tight_layout()\n",
    "plt.savefig('plots/pace_ccf_per_user.png')\n",
    "plt.show()"
   ]
  }
 ],
 "metadata": {
  "kernelspec": {
   "display_name": "base",
   "language": "python",
   "name": "python3"
  },
  "language_info": {
   "codemirror_mode": {
    "name": "ipython",
    "version": 3
   },
   "file_extension": ".py",
   "mimetype": "text/x-python",
   "name": "python",
   "nbconvert_exporter": "python",
   "pygments_lexer": "ipython3",
   "version": "3.12.7"
  }
 },
 "nbformat": 4,
 "nbformat_minor": 5
}
